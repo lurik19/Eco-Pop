{
 "cells": [
  {
   "cell_type": "code",
   "execution_count": null,
   "metadata": {},
   "outputs": [],
   "source": [
    "import matplotlib.pyplot as plt\n",
    "import numpy as np\n",
    "\n",
    "import subprocess\n",
    "import time"
   ]
  },
  {
   "cell_type": "code",
   "execution_count": null,
   "metadata": {},
   "outputs": [],
   "source": [
    "# --------------- parameters --------------- #\n",
    "# we have R resources and an ancestral population consisting\n",
    "# of n_start individuals and we study them for n_gen generations\n",
    "R = 10\n",
    "n_start = 1e7\n",
    "n_gen = 400000 # number of generations\n",
    "\n",
    "D = 1000 # depth of sequencing\n",
    "\n",
    "# number of mutations in the population per generation\n",
    "NU_X = 5\n",
    "NU_alpha = 5\n",
    "\n",
    "n_simulations = 40 # number of simulations with the same parameters\n",
    "\n",
    "EPS = [1e-3,1e-3,1e-3,1e-3,1e-3,1e-3,1e-3,1e-3] # small perturbations around the completely symmetric state for beta\n",
    "S = [1e-7, 10**(-6.5), 1e-6, 10**(-5.5), 1e-5, 10**(-4.5), 1e-4, 10**(-3.5)] # fitness increment in mutation\n",
    "\n",
    "# let's write the data in one string, which we will pass to the command line arguments\n",
    "data = str(R) + ' ' + str(n_start) + ' ' + str(n_gen) + ' ' + str(D) + ' ' + str(NU_X) + ' ' + str(NU_alpha) + ' ' + str(n_simulations) + ' ' + ' '.join([str(x) for x in EPS]) + ' ' + ' '.join([str(x) for x in S])"
   ]
  },
  {
   "cell_type": "code",
   "execution_count": null,
   "metadata": {},
   "outputs": [],
   "source": [
    "tstart = time.time()\n",
    "subprocess.call('make clean', shell = True)\n",
    "subprocess.call('make', shell = True)\n",
    "subprocess.call('./main.exe ' + data, shell = True)\n",
    "\n",
    "print('Time to run the code =', round(time.time() - tstart),'s')"
   ]
  },
  {
   "cell_type": "code",
   "execution_count": null,
   "metadata": {},
   "outputs": [],
   "source": [
    "# summary of the parameters we used\n",
    "print('# resources, R = {}'.format(R))\n",
    "print('Initial population, n_start = {:0.0e}'.format(n_start))\n",
    "print('# generations = {:0.0e}'.format(n_gen))\n",
    "print('Depth of sequencing, D = {:0.0e}'.format(D))\n",
    "print('# simulations per point = {}'.format(n_simulations))\n",
    "print()\n",
    "print('NU_X = {}, NU_alpha = {}'.format(NU_X, NU_alpha))\n",
    "print('Values for eps = ' + ', '.join(['{:.1e}'.format(x) for x in EPS]))\n",
    "print('Values for s = ' + ', '.join(['{:.1e}'.format(x) for x in S]))\n",
    "\n",
    "# plot Fig. S3 with generalist initial strain\n",
    "plt.rcParams.update({'font.size': 16})\n",
    "for eps, s in zip(EPS, S):\n",
    "    data = np.genfromtxt('./Data/n_species_{:0.1e}_{:0.1e}.txt'.format(eps, s), delimiter=',')\n",
    "    x, y = data[:, 0], data[:, 1]\n",
    "    yerr = np.std(y)\n",
    "    plt.errorbar(np.mean(x), np.mean(y), yerr, marker='o', mfc='b', mec='b', ecolor='b')\n",
    "plt.xscale('log')\n",
    "plt.title('# ecotypes from generalist initial strain\\n')\n",
    "plt.xlabel(r'Scaled fitness mutation rate, $U_X  s^2  R / (U_\\alpha \\epsilon^2)$')\n",
    "plt.ylabel('# ecotypes, S')\n",
    "\n",
    "# we write the parameters in the plot (in this way we won't forget which values we used!!)\n",
    "plt.text(0, -0.4, transform = plt.gcf().transFigure, s = '# resources, R = {}'.format(R)+'\\n'\n",
    "                                                     +'Initial population, n_start = {:0.0e}'.format(n_start)+'\\n'\n",
    "                                                     +'# generations = {:0.0e}'.format(n_gen)+'\\n'\n",
    "                                                     +'Depth of sequencing, D = {:0.0e}'.format(D)+'\\n'\n",
    "                                                     +'# simulations per point = {}'.format(n_simulations)+'\\n'\n",
    "                                                     +'NU_X = {}, NU_alpha = {}'.format(NU_X, NU_alpha)+'\\n'\n",
    "                                                     +'Values for eps = '+', '.join(['{:.1e}'.format(x) for x in EPS])+'\\n'\n",
    "                                                     +'Values for s = '+', '.join(['{:.1e}'.format(x) for x in S]),\n",
    "         fontdict = {'weight':'light','size':11})\n",
    "\n",
    "plt.savefig('./Data/n_ecotypes.jpg', bbox_inches = 'tight', dpi = 1000)\n",
    "plt.show()"
   ]
  }
 ],
 "metadata": {
  "kernelspec": {
   "display_name": "Python 3",
   "language": "python",
   "name": "python3"
  },
  "language_info": {
   "codemirror_mode": {
    "name": "ipython",
    "version": 3
   },
   "file_extension": ".py",
   "mimetype": "text/x-python",
   "name": "python",
   "nbconvert_exporter": "python",
   "pygments_lexer": "ipython3",
   "version": "3.8.3"
  }
 },
 "nbformat": 4,
 "nbformat_minor": 4
}